{
  "nbformat": 4,
  "nbformat_minor": 0,
  "metadata": {
    "colab": {
      "name": "MSDS451Connelly.ipynb",
      "provenance": [],
      "include_colab_link": true
    },
    "kernelspec": {
      "name": "python3",
      "display_name": "Python 3"
    },
    "accelerator": "GPU"
  },
  "cells": [
    {
      "cell_type": "markdown",
      "metadata": {
        "id": "view-in-github",
        "colab_type": "text"
      },
      "source": [
        "<a href=\"https://colab.research.google.com/github/TJConnellyContingentMacro/TimeSeries/blob/master/MSDS451Connelly.ipynb\" target=\"_parent\"><img src=\"https://colab.research.google.com/assets/colab-badge.svg\" alt=\"Open In Colab\"/></a>"
      ]
    },
    {
      "cell_type": "code",
      "metadata": {
        "id": "DqZNEc5nIps3",
        "colab_type": "code",
        "colab": {}
      },
      "source": [
        "import pandas as pd\n",
        "import statsmodels.api as sm\n",
        "import numpy as np\n",
        "import matplotlib.pyplot as plt"
      ],
      "execution_count": 0,
      "outputs": []
    },
    {
      "cell_type": "markdown",
      "metadata": {
        "id": "eiwL1DM--iiM",
        "colab_type": "text"
      },
      "source": [
        "# DATA INGEST"
      ]
    },
    {
      "cell_type": "markdown",
      "metadata": {
        "id": "Cq66b_6T-loZ",
        "colab_type": "text"
      },
      "source": [
        "## Read Stock Price Data and Limit to 4 stocks"
      ]
    },
    {
      "cell_type": "code",
      "metadata": {
        "id": "mRAQ2OlzIrZ-",
        "colab_type": "code",
        "outputId": "8375625f-1ca5-4b6b-be7b-e2827e8ab0f0",
        "colab": {
          "base_uri": "https://localhost:8080/",
          "height": 450
        }
      },
      "source": [
        "df = pd.read_csv('https://raw.githubusercontent.com/TJConnellyContingentMacro/TimeSeries/master/Stock_FX_Bond_2004_to_2005.csv', index_col= 0 )\n",
        "df.index = pd.to_datetime(df.index)\n",
        "df = df[['GM_AC', 'F_AC', 'UTX_AC', 'MRK_AC']].copy()\n",
        "\n",
        "df = np.log(df).diff()*100\n",
        "df = df.dropna()\n",
        "df"
      ],
      "execution_count": 2,
      "outputs": [
        {
          "output_type": "execute_result",
          "data": {
            "text/html": [
              "<div>\n",
              "<style scoped>\n",
              "    .dataframe tbody tr th:only-of-type {\n",
              "        vertical-align: middle;\n",
              "    }\n",
              "\n",
              "    .dataframe tbody tr th {\n",
              "        vertical-align: top;\n",
              "    }\n",
              "\n",
              "    .dataframe thead th {\n",
              "        text-align: right;\n",
              "    }\n",
              "</style>\n",
              "<table border=\"1\" class=\"dataframe\">\n",
              "  <thead>\n",
              "    <tr style=\"text-align: right;\">\n",
              "      <th></th>\n",
              "      <th>GM_AC</th>\n",
              "      <th>F_AC</th>\n",
              "      <th>UTX_AC</th>\n",
              "      <th>MRK_AC</th>\n",
              "    </tr>\n",
              "    <tr>\n",
              "      <th>Date</th>\n",
              "      <th></th>\n",
              "      <th></th>\n",
              "      <th></th>\n",
              "      <th></th>\n",
              "    </tr>\n",
              "  </thead>\n",
              "  <tbody>\n",
              "    <tr>\n",
              "      <th>2004-01-05</th>\n",
              "      <td>1.760945</td>\n",
              "      <td>3.179165</td>\n",
              "      <td>0.596489</td>\n",
              "      <td>1.991531</td>\n",
              "    </tr>\n",
              "    <tr>\n",
              "      <th>2004-01-06</th>\n",
              "      <td>-0.611752</td>\n",
              "      <td>-0.333445</td>\n",
              "      <td>-0.242585</td>\n",
              "      <td>-0.470589</td>\n",
              "    </tr>\n",
              "    <tr>\n",
              "      <th>2004-01-07</th>\n",
              "      <td>1.365998</td>\n",
              "      <td>2.701977</td>\n",
              "      <td>0.308642</td>\n",
              "      <td>0.117855</td>\n",
              "    </tr>\n",
              "    <tr>\n",
              "      <th>2004-01-08</th>\n",
              "      <td>-0.020875</td>\n",
              "      <td>0.648090</td>\n",
              "      <td>-0.110120</td>\n",
              "      <td>0.516918</td>\n",
              "    </tr>\n",
              "    <tr>\n",
              "      <th>2004-01-09</th>\n",
              "      <td>-2.173769</td>\n",
              "      <td>-3.216556</td>\n",
              "      <td>-1.442706</td>\n",
              "      <td>-1.988231</td>\n",
              "    </tr>\n",
              "    <tr>\n",
              "      <th>...</th>\n",
              "      <td>...</td>\n",
              "      <td>...</td>\n",
              "      <td>...</td>\n",
              "      <td>...</td>\n",
              "    </tr>\n",
              "    <tr>\n",
              "      <th>2005-12-23</th>\n",
              "      <td>1.044252</td>\n",
              "      <td>-0.652318</td>\n",
              "      <td>-1.002382</td>\n",
              "      <td>0.578780</td>\n",
              "    </tr>\n",
              "    <tr>\n",
              "      <th>2005-12-27</th>\n",
              "      <td>0.816776</td>\n",
              "      <td>-0.130976</td>\n",
              "      <td>-0.923302</td>\n",
              "      <td>-0.804769</td>\n",
              "    </tr>\n",
              "    <tr>\n",
              "      <th>2005-12-28</th>\n",
              "      <td>-2.026911</td>\n",
              "      <td>-0.525625</td>\n",
              "      <td>0.213828</td>\n",
              "      <td>-0.097009</td>\n",
              "    </tr>\n",
              "    <tr>\n",
              "      <th>2005-12-29</th>\n",
              "      <td>2.135312</td>\n",
              "      <td>-0.396040</td>\n",
              "      <td>-0.947874</td>\n",
              "      <td>1.381548</td>\n",
              "    </tr>\n",
              "    <tr>\n",
              "      <th>2005-12-30</th>\n",
              "      <td>2.143705</td>\n",
              "      <td>-1.197619</td>\n",
              "      <td>-0.757579</td>\n",
              "      <td>-1.673141</td>\n",
              "    </tr>\n",
              "  </tbody>\n",
              "</table>\n",
              "<p>503 rows × 4 columns</p>\n",
              "</div>"
            ],
            "text/plain": [
              "               GM_AC      F_AC    UTX_AC    MRK_AC\n",
              "Date                                              \n",
              "2004-01-05  1.760945  3.179165  0.596489  1.991531\n",
              "2004-01-06 -0.611752 -0.333445 -0.242585 -0.470589\n",
              "2004-01-07  1.365998  2.701977  0.308642  0.117855\n",
              "2004-01-08 -0.020875  0.648090 -0.110120  0.516918\n",
              "2004-01-09 -2.173769 -3.216556 -1.442706 -1.988231\n",
              "...              ...       ...       ...       ...\n",
              "2005-12-23  1.044252 -0.652318 -1.002382  0.578780\n",
              "2005-12-27  0.816776 -0.130976 -0.923302 -0.804769\n",
              "2005-12-28 -2.026911 -0.525625  0.213828 -0.097009\n",
              "2005-12-29  2.135312 -0.396040 -0.947874  1.381548\n",
              "2005-12-30  2.143705 -1.197619 -0.757579 -1.673141\n",
              "\n",
              "[503 rows x 4 columns]"
            ]
          },
          "metadata": {
            "tags": []
          },
          "execution_count": 2
        }
      ]
    },
    {
      "cell_type": "markdown",
      "metadata": {
        "id": "f1F8VFyO-uob",
        "colab_type": "text"
      },
      "source": [
        "## Now Get Fama-French Factors and Limit to 2004-2005"
      ]
    },
    {
      "cell_type": "code",
      "metadata": {
        "id": "SPjAX_uU-e-t",
        "colab_type": "code",
        "outputId": "fd5d8c13-39f7-4273-a0ee-33666e3ac2eb",
        "colab": {
          "base_uri": "https://localhost:8080/",
          "height": 450
        }
      },
      "source": [
        "ff = pd.read_csv('https://raw.githubusercontent.com/TJConnellyContingentMacro/TimeSeries/master/FamaFrench0405.csv',index_col='date')\n",
        "\n",
        "ff.drop(columns='Unnamed: 0', axis = 1, inplace = True)\n",
        "ff.index = pd.to_datetime(ff.index, format = '%Y%m%d')\n",
        "\n",
        "ff"
      ],
      "execution_count": 3,
      "outputs": [
        {
          "output_type": "execute_result",
          "data": {
            "text/html": [
              "<div>\n",
              "<style scoped>\n",
              "    .dataframe tbody tr th:only-of-type {\n",
              "        vertical-align: middle;\n",
              "    }\n",
              "\n",
              "    .dataframe tbody tr th {\n",
              "        vertical-align: top;\n",
              "    }\n",
              "\n",
              "    .dataframe thead th {\n",
              "        text-align: right;\n",
              "    }\n",
              "</style>\n",
              "<table border=\"1\" class=\"dataframe\">\n",
              "  <thead>\n",
              "    <tr style=\"text-align: right;\">\n",
              "      <th></th>\n",
              "      <th>Mkt.RF</th>\n",
              "      <th>SMB</th>\n",
              "      <th>HML</th>\n",
              "      <th>RF</th>\n",
              "    </tr>\n",
              "    <tr>\n",
              "      <th>date</th>\n",
              "      <th></th>\n",
              "      <th></th>\n",
              "      <th></th>\n",
              "      <th></th>\n",
              "    </tr>\n",
              "  </thead>\n",
              "  <tbody>\n",
              "    <tr>\n",
              "      <th>2004-01-05</th>\n",
              "      <td>1.22</td>\n",
              "      <td>0.34</td>\n",
              "      <td>0.02</td>\n",
              "      <td>0.004</td>\n",
              "    </tr>\n",
              "    <tr>\n",
              "      <th>2004-01-06</th>\n",
              "      <td>0.19</td>\n",
              "      <td>0.13</td>\n",
              "      <td>0.18</td>\n",
              "      <td>0.004</td>\n",
              "    </tr>\n",
              "    <tr>\n",
              "      <th>2004-01-07</th>\n",
              "      <td>0.27</td>\n",
              "      <td>0.50</td>\n",
              "      <td>-0.08</td>\n",
              "      <td>0.004</td>\n",
              "    </tr>\n",
              "    <tr>\n",
              "      <th>2004-01-08</th>\n",
              "      <td>0.48</td>\n",
              "      <td>0.32</td>\n",
              "      <td>0.61</td>\n",
              "      <td>0.004</td>\n",
              "    </tr>\n",
              "    <tr>\n",
              "      <th>2004-01-09</th>\n",
              "      <td>-0.63</td>\n",
              "      <td>0.01</td>\n",
              "      <td>0.29</td>\n",
              "      <td>0.004</td>\n",
              "    </tr>\n",
              "    <tr>\n",
              "      <th>...</th>\n",
              "      <td>...</td>\n",
              "      <td>...</td>\n",
              "      <td>...</td>\n",
              "      <td>...</td>\n",
              "    </tr>\n",
              "    <tr>\n",
              "      <th>2005-12-23</th>\n",
              "      <td>0.08</td>\n",
              "      <td>0.27</td>\n",
              "      <td>0.00</td>\n",
              "      <td>0.015</td>\n",
              "    </tr>\n",
              "    <tr>\n",
              "      <th>2005-12-27</th>\n",
              "      <td>-1.00</td>\n",
              "      <td>-0.39</td>\n",
              "      <td>0.11</td>\n",
              "      <td>0.015</td>\n",
              "    </tr>\n",
              "    <tr>\n",
              "      <th>2005-12-28</th>\n",
              "      <td>0.27</td>\n",
              "      <td>0.36</td>\n",
              "      <td>0.13</td>\n",
              "      <td>0.015</td>\n",
              "    </tr>\n",
              "    <tr>\n",
              "      <th>2005-12-29</th>\n",
              "      <td>-0.25</td>\n",
              "      <td>0.00</td>\n",
              "      <td>0.23</td>\n",
              "      <td>0.015</td>\n",
              "    </tr>\n",
              "    <tr>\n",
              "      <th>2005-12-30</th>\n",
              "      <td>-0.46</td>\n",
              "      <td>-0.20</td>\n",
              "      <td>0.26</td>\n",
              "      <td>0.015</td>\n",
              "    </tr>\n",
              "  </tbody>\n",
              "</table>\n",
              "<p>503 rows × 4 columns</p>\n",
              "</div>"
            ],
            "text/plain": [
              "            Mkt.RF   SMB   HML     RF\n",
              "date                                 \n",
              "2004-01-05    1.22  0.34  0.02  0.004\n",
              "2004-01-06    0.19  0.13  0.18  0.004\n",
              "2004-01-07    0.27  0.50 -0.08  0.004\n",
              "2004-01-08    0.48  0.32  0.61  0.004\n",
              "2004-01-09   -0.63  0.01  0.29  0.004\n",
              "...            ...   ...   ...    ...\n",
              "2005-12-23    0.08  0.27  0.00  0.015\n",
              "2005-12-27   -1.00 -0.39  0.11  0.015\n",
              "2005-12-28    0.27  0.36  0.13  0.015\n",
              "2005-12-29   -0.25  0.00  0.23  0.015\n",
              "2005-12-30   -0.46 -0.20  0.26  0.015\n",
              "\n",
              "[503 rows x 4 columns]"
            ]
          },
          "metadata": {
            "tags": []
          },
          "execution_count": 3
        }
      ]
    },
    {
      "cell_type": "markdown",
      "metadata": {
        "id": "8vnOmFBwL3Du",
        "colab_type": "text"
      },
      "source": [
        "## Merge Them together and take risk-free return from log stock returns"
      ]
    },
    {
      "cell_type": "code",
      "metadata": {
        "id": "9N0wM5ErFcPn",
        "colab_type": "code",
        "colab": {}
      },
      "source": [
        "df = pd.merge(df, ff, how = 'inner', left_index=True, right_index = True)"
      ],
      "execution_count": 0,
      "outputs": []
    },
    {
      "cell_type": "code",
      "metadata": {
        "id": "V3RhPfJYLdWo",
        "colab_type": "code",
        "colab": {}
      },
      "source": [
        "df['GM_AC'] = df['GM_AC'] - df['RF']\n",
        "df['F_AC'] = df['F_AC'] - df['RF']\n",
        "df['UTX_AC'] = df['UTX_AC'] - df['RF']\n",
        "df['MRK_AC'] = df['MRK_AC'] - df['RF']"
      ],
      "execution_count": 0,
      "outputs": []
    },
    {
      "cell_type": "code",
      "metadata": {
        "id": "iYC-dpVVLeoY",
        "colab_type": "code",
        "outputId": "0dbafc8a-6924-4f88-d355-d610df9a120b",
        "colab": {
          "base_uri": "https://localhost:8080/",
          "height": 450
        }
      },
      "source": [
        "df"
      ],
      "execution_count": 6,
      "outputs": [
        {
          "output_type": "execute_result",
          "data": {
            "text/html": [
              "<div>\n",
              "<style scoped>\n",
              "    .dataframe tbody tr th:only-of-type {\n",
              "        vertical-align: middle;\n",
              "    }\n",
              "\n",
              "    .dataframe tbody tr th {\n",
              "        vertical-align: top;\n",
              "    }\n",
              "\n",
              "    .dataframe thead th {\n",
              "        text-align: right;\n",
              "    }\n",
              "</style>\n",
              "<table border=\"1\" class=\"dataframe\">\n",
              "  <thead>\n",
              "    <tr style=\"text-align: right;\">\n",
              "      <th></th>\n",
              "      <th>GM_AC</th>\n",
              "      <th>F_AC</th>\n",
              "      <th>UTX_AC</th>\n",
              "      <th>MRK_AC</th>\n",
              "      <th>Mkt.RF</th>\n",
              "      <th>SMB</th>\n",
              "      <th>HML</th>\n",
              "      <th>RF</th>\n",
              "    </tr>\n",
              "    <tr>\n",
              "      <th>Date</th>\n",
              "      <th></th>\n",
              "      <th></th>\n",
              "      <th></th>\n",
              "      <th></th>\n",
              "      <th></th>\n",
              "      <th></th>\n",
              "      <th></th>\n",
              "      <th></th>\n",
              "    </tr>\n",
              "  </thead>\n",
              "  <tbody>\n",
              "    <tr>\n",
              "      <th>2004-01-05</th>\n",
              "      <td>1.756945</td>\n",
              "      <td>3.175165</td>\n",
              "      <td>0.592489</td>\n",
              "      <td>1.987531</td>\n",
              "      <td>1.22</td>\n",
              "      <td>0.34</td>\n",
              "      <td>0.02</td>\n",
              "      <td>0.004</td>\n",
              "    </tr>\n",
              "    <tr>\n",
              "      <th>2004-01-06</th>\n",
              "      <td>-0.615752</td>\n",
              "      <td>-0.337445</td>\n",
              "      <td>-0.246585</td>\n",
              "      <td>-0.474589</td>\n",
              "      <td>0.19</td>\n",
              "      <td>0.13</td>\n",
              "      <td>0.18</td>\n",
              "      <td>0.004</td>\n",
              "    </tr>\n",
              "    <tr>\n",
              "      <th>2004-01-07</th>\n",
              "      <td>1.361998</td>\n",
              "      <td>2.697977</td>\n",
              "      <td>0.304642</td>\n",
              "      <td>0.113855</td>\n",
              "      <td>0.27</td>\n",
              "      <td>0.50</td>\n",
              "      <td>-0.08</td>\n",
              "      <td>0.004</td>\n",
              "    </tr>\n",
              "    <tr>\n",
              "      <th>2004-01-08</th>\n",
              "      <td>-0.024875</td>\n",
              "      <td>0.644090</td>\n",
              "      <td>-0.114120</td>\n",
              "      <td>0.512918</td>\n",
              "      <td>0.48</td>\n",
              "      <td>0.32</td>\n",
              "      <td>0.61</td>\n",
              "      <td>0.004</td>\n",
              "    </tr>\n",
              "    <tr>\n",
              "      <th>2004-01-09</th>\n",
              "      <td>-2.177769</td>\n",
              "      <td>-3.220556</td>\n",
              "      <td>-1.446706</td>\n",
              "      <td>-1.992231</td>\n",
              "      <td>-0.63</td>\n",
              "      <td>0.01</td>\n",
              "      <td>0.29</td>\n",
              "      <td>0.004</td>\n",
              "    </tr>\n",
              "    <tr>\n",
              "      <th>...</th>\n",
              "      <td>...</td>\n",
              "      <td>...</td>\n",
              "      <td>...</td>\n",
              "      <td>...</td>\n",
              "      <td>...</td>\n",
              "      <td>...</td>\n",
              "      <td>...</td>\n",
              "      <td>...</td>\n",
              "    </tr>\n",
              "    <tr>\n",
              "      <th>2005-12-23</th>\n",
              "      <td>1.029252</td>\n",
              "      <td>-0.667318</td>\n",
              "      <td>-1.017382</td>\n",
              "      <td>0.563780</td>\n",
              "      <td>0.08</td>\n",
              "      <td>0.27</td>\n",
              "      <td>0.00</td>\n",
              "      <td>0.015</td>\n",
              "    </tr>\n",
              "    <tr>\n",
              "      <th>2005-12-27</th>\n",
              "      <td>0.801776</td>\n",
              "      <td>-0.145976</td>\n",
              "      <td>-0.938302</td>\n",
              "      <td>-0.819769</td>\n",
              "      <td>-1.00</td>\n",
              "      <td>-0.39</td>\n",
              "      <td>0.11</td>\n",
              "      <td>0.015</td>\n",
              "    </tr>\n",
              "    <tr>\n",
              "      <th>2005-12-28</th>\n",
              "      <td>-2.041911</td>\n",
              "      <td>-0.540625</td>\n",
              "      <td>0.198828</td>\n",
              "      <td>-0.112009</td>\n",
              "      <td>0.27</td>\n",
              "      <td>0.36</td>\n",
              "      <td>0.13</td>\n",
              "      <td>0.015</td>\n",
              "    </tr>\n",
              "    <tr>\n",
              "      <th>2005-12-29</th>\n",
              "      <td>2.120312</td>\n",
              "      <td>-0.411040</td>\n",
              "      <td>-0.962874</td>\n",
              "      <td>1.366548</td>\n",
              "      <td>-0.25</td>\n",
              "      <td>0.00</td>\n",
              "      <td>0.23</td>\n",
              "      <td>0.015</td>\n",
              "    </tr>\n",
              "    <tr>\n",
              "      <th>2005-12-30</th>\n",
              "      <td>2.128705</td>\n",
              "      <td>-1.212619</td>\n",
              "      <td>-0.772579</td>\n",
              "      <td>-1.688141</td>\n",
              "      <td>-0.46</td>\n",
              "      <td>-0.20</td>\n",
              "      <td>0.26</td>\n",
              "      <td>0.015</td>\n",
              "    </tr>\n",
              "  </tbody>\n",
              "</table>\n",
              "<p>503 rows × 8 columns</p>\n",
              "</div>"
            ],
            "text/plain": [
              "               GM_AC      F_AC    UTX_AC    MRK_AC  Mkt.RF   SMB   HML     RF\n",
              "Date                                                                         \n",
              "2004-01-05  1.756945  3.175165  0.592489  1.987531    1.22  0.34  0.02  0.004\n",
              "2004-01-06 -0.615752 -0.337445 -0.246585 -0.474589    0.19  0.13  0.18  0.004\n",
              "2004-01-07  1.361998  2.697977  0.304642  0.113855    0.27  0.50 -0.08  0.004\n",
              "2004-01-08 -0.024875  0.644090 -0.114120  0.512918    0.48  0.32  0.61  0.004\n",
              "2004-01-09 -2.177769 -3.220556 -1.446706 -1.992231   -0.63  0.01  0.29  0.004\n",
              "...              ...       ...       ...       ...     ...   ...   ...    ...\n",
              "2005-12-23  1.029252 -0.667318 -1.017382  0.563780    0.08  0.27  0.00  0.015\n",
              "2005-12-27  0.801776 -0.145976 -0.938302 -0.819769   -1.00 -0.39  0.11  0.015\n",
              "2005-12-28 -2.041911 -0.540625  0.198828 -0.112009    0.27  0.36  0.13  0.015\n",
              "2005-12-29  2.120312 -0.411040 -0.962874  1.366548   -0.25  0.00  0.23  0.015\n",
              "2005-12-30  2.128705 -1.212619 -0.772579 -1.688141   -0.46 -0.20  0.26  0.015\n",
              "\n",
              "[503 rows x 8 columns]"
            ]
          },
          "metadata": {
            "tags": []
          },
          "execution_count": 6
        }
      ]
    },
    {
      "cell_type": "markdown",
      "metadata": {
        "id": "6eL1l9b7l_F3",
        "colab_type": "text"
      },
      "source": [
        "# MODELING"
      ]
    },
    {
      "cell_type": "markdown",
      "metadata": {
        "id": "PZHHhjj_mBmz",
        "colab_type": "text"
      },
      "source": [
        "## OLS model for GM"
      ]
    },
    {
      "cell_type": "code",
      "metadata": {
        "id": "baLQ1mMYaPM0",
        "colab_type": "code",
        "outputId": "6f298fca-2c8d-406b-897c-3e50fb32c618",
        "colab": {
          "base_uri": "https://localhost:8080/",
          "height": 465
        }
      },
      "source": [
        "X = df[['Mkt.RF', 'SMB', 'HML']]\n",
        "y = df['GM_AC']\n",
        "GMmodel = sm.OLS(y, X).fit()\n",
        "GMmodel.summary()\n",
        "   \n"
      ],
      "execution_count": 7,
      "outputs": [
        {
          "output_type": "execute_result",
          "data": {
            "text/html": [
              "<table class=\"simpletable\">\n",
              "<caption>OLS Regression Results</caption>\n",
              "<tr>\n",
              "  <th>Dep. Variable:</th>          <td>GM_AC</td>      <th>  R-squared (uncentered):</th>      <td>   0.166</td>\n",
              "</tr>\n",
              "<tr>\n",
              "  <th>Model:</th>                   <td>OLS</td>       <th>  Adj. R-squared (uncentered):</th> <td>   0.161</td>\n",
              "</tr>\n",
              "<tr>\n",
              "  <th>Method:</th>             <td>Least Squares</td>  <th>  F-statistic:       </th>          <td>   33.16</td>\n",
              "</tr>\n",
              "<tr>\n",
              "  <th>Date:</th>             <td>Wed, 20 Nov 2019</td> <th>  Prob (F-statistic):</th>          <td>1.46e-19</td>\n",
              "</tr>\n",
              "<tr>\n",
              "  <th>Time:</th>                 <td>00:45:47</td>     <th>  Log-Likelihood:    </th>          <td> -1045.8</td>\n",
              "</tr>\n",
              "<tr>\n",
              "  <th>No. Observations:</th>      <td>   503</td>      <th>  AIC:               </th>          <td>   2098.</td>\n",
              "</tr>\n",
              "<tr>\n",
              "  <th>Df Residuals:</th>          <td>   500</td>      <th>  BIC:               </th>          <td>   2110.</td>\n",
              "</tr>\n",
              "<tr>\n",
              "  <th>Df Model:</th>              <td>     3</td>      <th>                     </th>              <td> </td>   \n",
              "</tr>\n",
              "<tr>\n",
              "  <th>Covariance Type:</th>      <td>nonrobust</td>    <th>                     </th>              <td> </td>   \n",
              "</tr>\n",
              "</table>\n",
              "<table class=\"simpletable\">\n",
              "<tr>\n",
              "     <td></td>       <th>coef</th>     <th>std err</th>      <th>t</th>      <th>P>|t|</th>  <th>[0.025</th>    <th>0.975]</th>  \n",
              "</tr>\n",
              "<tr>\n",
              "  <th>Mkt.RF</th> <td>    1.3640</td> <td>    0.153</td> <td>    8.942</td> <td> 0.000</td> <td>    1.064</td> <td>    1.664</td>\n",
              "</tr>\n",
              "<tr>\n",
              "  <th>SMB</th>    <td>   -0.2461</td> <td>    0.225</td> <td>   -1.092</td> <td> 0.275</td> <td>   -0.689</td> <td>    0.197</td>\n",
              "</tr>\n",
              "<tr>\n",
              "  <th>HML</th>    <td>    0.5235</td> <td>    0.265</td> <td>    1.976</td> <td> 0.049</td> <td>    0.003</td> <td>    1.044</td>\n",
              "</tr>\n",
              "</table>\n",
              "<table class=\"simpletable\">\n",
              "<tr>\n",
              "  <th>Omnibus:</th>       <td>121.871</td> <th>  Durbin-Watson:     </th> <td>   1.976</td>\n",
              "</tr>\n",
              "<tr>\n",
              "  <th>Prob(Omnibus):</th> <td> 0.000</td>  <th>  Jarque-Bera (JB):  </th> <td>4255.119</td>\n",
              "</tr>\n",
              "<tr>\n",
              "  <th>Skew:</th>          <td> 0.128</td>  <th>  Prob(JB):          </th> <td>    0.00</td>\n",
              "</tr>\n",
              "<tr>\n",
              "  <th>Kurtosis:</th>      <td>17.246</td>  <th>  Cond. No.          </th> <td>    2.33</td>\n",
              "</tr>\n",
              "</table><br/><br/>Warnings:<br/>[1] Standard Errors assume that the covariance matrix of the errors is correctly specified."
            ],
            "text/plain": [
              "<class 'statsmodels.iolib.summary.Summary'>\n",
              "\"\"\"\n",
              "                                 OLS Regression Results                                \n",
              "=======================================================================================\n",
              "Dep. Variable:                  GM_AC   R-squared (uncentered):                   0.166\n",
              "Model:                            OLS   Adj. R-squared (uncentered):              0.161\n",
              "Method:                 Least Squares   F-statistic:                              33.16\n",
              "Date:                Wed, 20 Nov 2019   Prob (F-statistic):                    1.46e-19\n",
              "Time:                        00:45:47   Log-Likelihood:                         -1045.8\n",
              "No. Observations:                 503   AIC:                                      2098.\n",
              "Df Residuals:                     500   BIC:                                      2110.\n",
              "Df Model:                           3                                                  \n",
              "Covariance Type:            nonrobust                                                  \n",
              "==============================================================================\n",
              "                 coef    std err          t      P>|t|      [0.025      0.975]\n",
              "------------------------------------------------------------------------------\n",
              "Mkt.RF         1.3640      0.153      8.942      0.000       1.064       1.664\n",
              "SMB           -0.2461      0.225     -1.092      0.275      -0.689       0.197\n",
              "HML            0.5235      0.265      1.976      0.049       0.003       1.044\n",
              "==============================================================================\n",
              "Omnibus:                      121.871   Durbin-Watson:                   1.976\n",
              "Prob(Omnibus):                  0.000   Jarque-Bera (JB):             4255.119\n",
              "Skew:                           0.128   Prob(JB):                         0.00\n",
              "Kurtosis:                      17.246   Cond. No.                         2.33\n",
              "==============================================================================\n",
              "\n",
              "Warnings:\n",
              "[1] Standard Errors assume that the covariance matrix of the errors is correctly specified.\n",
              "\"\"\""
            ]
          },
          "metadata": {
            "tags": []
          },
          "execution_count": 7
        }
      ]
    },
    {
      "cell_type": "markdown",
      "metadata": {
        "id": "xPfvK5P5mEVK",
        "colab_type": "text"
      },
      "source": [
        "## OLS model for Ford"
      ]
    },
    {
      "cell_type": "code",
      "metadata": {
        "id": "dZFQPlMBjt1S",
        "colab_type": "code",
        "outputId": "bd9ead39-f4bc-470a-90d2-a85e2eb5feca",
        "colab": {
          "base_uri": "https://localhost:8080/",
          "height": 465
        }
      },
      "source": [
        "X = df[['Mkt.RF', 'SMB', 'HML']]\n",
        "y = df['F_AC']\n",
        "Fmodel = sm.OLS(y, X).fit()\n",
        "Fmodel.summary()\n",
        "   "
      ],
      "execution_count": 8,
      "outputs": [
        {
          "output_type": "execute_result",
          "data": {
            "text/html": [
              "<table class=\"simpletable\">\n",
              "<caption>OLS Regression Results</caption>\n",
              "<tr>\n",
              "  <th>Dep. Variable:</th>          <td>F_AC</td>       <th>  R-squared (uncentered):</th>      <td>   0.257</td>\n",
              "</tr>\n",
              "<tr>\n",
              "  <th>Model:</th>                   <td>OLS</td>       <th>  Adj. R-squared (uncentered):</th> <td>   0.252</td>\n",
              "</tr>\n",
              "<tr>\n",
              "  <th>Method:</th>             <td>Least Squares</td>  <th>  F-statistic:       </th>          <td>   57.51</td>\n",
              "</tr>\n",
              "<tr>\n",
              "  <th>Date:</th>             <td>Wed, 20 Nov 2019</td> <th>  Prob (F-statistic):</th>          <td>5.92e-32</td>\n",
              "</tr>\n",
              "<tr>\n",
              "  <th>Time:</th>                 <td>00:45:47</td>     <th>  Log-Likelihood:    </th>          <td> -923.99</td>\n",
              "</tr>\n",
              "<tr>\n",
              "  <th>No. Observations:</th>      <td>   503</td>      <th>  AIC:               </th>          <td>   1854.</td>\n",
              "</tr>\n",
              "<tr>\n",
              "  <th>Df Residuals:</th>          <td>   500</td>      <th>  BIC:               </th>          <td>   1867.</td>\n",
              "</tr>\n",
              "<tr>\n",
              "  <th>Df Model:</th>              <td>     3</td>      <th>                     </th>              <td> </td>   \n",
              "</tr>\n",
              "<tr>\n",
              "  <th>Covariance Type:</th>      <td>nonrobust</td>    <th>                     </th>              <td> </td>   \n",
              "</tr>\n",
              "</table>\n",
              "<table class=\"simpletable\">\n",
              "<tr>\n",
              "     <td></td>       <th>coef</th>     <th>std err</th>      <th>t</th>      <th>P>|t|</th>  <th>[0.025</th>    <th>0.975]</th>  \n",
              "</tr>\n",
              "<tr>\n",
              "  <th>Mkt.RF</th> <td>    1.3318</td> <td>    0.120</td> <td>   11.124</td> <td> 0.000</td> <td>    1.097</td> <td>    1.567</td>\n",
              "</tr>\n",
              "<tr>\n",
              "  <th>SMB</th>    <td>   -0.0123</td> <td>    0.177</td> <td>   -0.070</td> <td> 0.945</td> <td>   -0.360</td> <td>    0.335</td>\n",
              "</tr>\n",
              "<tr>\n",
              "  <th>HML</th>    <td>    0.2814</td> <td>    0.208</td> <td>    1.353</td> <td> 0.177</td> <td>   -0.127</td> <td>    0.690</td>\n",
              "</tr>\n",
              "</table>\n",
              "<table class=\"simpletable\">\n",
              "<tr>\n",
              "  <th>Omnibus:</th>       <td>75.118</td> <th>  Durbin-Watson:     </th> <td>   1.965</td>\n",
              "</tr>\n",
              "<tr>\n",
              "  <th>Prob(Omnibus):</th> <td> 0.000</td> <th>  Jarque-Bera (JB):  </th> <td> 386.501</td>\n",
              "</tr>\n",
              "<tr>\n",
              "  <th>Skew:</th>          <td> 0.518</td> <th>  Prob(JB):          </th> <td>1.18e-84</td>\n",
              "</tr>\n",
              "<tr>\n",
              "  <th>Kurtosis:</th>      <td> 7.168</td> <th>  Cond. No.          </th> <td>    2.33</td>\n",
              "</tr>\n",
              "</table><br/><br/>Warnings:<br/>[1] Standard Errors assume that the covariance matrix of the errors is correctly specified."
            ],
            "text/plain": [
              "<class 'statsmodels.iolib.summary.Summary'>\n",
              "\"\"\"\n",
              "                                 OLS Regression Results                                \n",
              "=======================================================================================\n",
              "Dep. Variable:                   F_AC   R-squared (uncentered):                   0.257\n",
              "Model:                            OLS   Adj. R-squared (uncentered):              0.252\n",
              "Method:                 Least Squares   F-statistic:                              57.51\n",
              "Date:                Wed, 20 Nov 2019   Prob (F-statistic):                    5.92e-32\n",
              "Time:                        00:45:47   Log-Likelihood:                         -923.99\n",
              "No. Observations:                 503   AIC:                                      1854.\n",
              "Df Residuals:                     500   BIC:                                      1867.\n",
              "Df Model:                           3                                                  \n",
              "Covariance Type:            nonrobust                                                  \n",
              "==============================================================================\n",
              "                 coef    std err          t      P>|t|      [0.025      0.975]\n",
              "------------------------------------------------------------------------------\n",
              "Mkt.RF         1.3318      0.120     11.124      0.000       1.097       1.567\n",
              "SMB           -0.0123      0.177     -0.070      0.945      -0.360       0.335\n",
              "HML            0.2814      0.208      1.353      0.177      -0.127       0.690\n",
              "==============================================================================\n",
              "Omnibus:                       75.118   Durbin-Watson:                   1.965\n",
              "Prob(Omnibus):                  0.000   Jarque-Bera (JB):              386.501\n",
              "Skew:                           0.518   Prob(JB):                     1.18e-84\n",
              "Kurtosis:                       7.168   Cond. No.                         2.33\n",
              "==============================================================================\n",
              "\n",
              "Warnings:\n",
              "[1] Standard Errors assume that the covariance matrix of the errors is correctly specified.\n",
              "\"\"\""
            ]
          },
          "metadata": {
            "tags": []
          },
          "execution_count": 8
        }
      ]
    },
    {
      "cell_type": "markdown",
      "metadata": {
        "id": "ieL9j3TemzKB",
        "colab_type": "text"
      },
      "source": [
        "### Thoughts on results\n",
        "these were coming close to what I had in R but were off slightly -- ie. Ford's HML coefficient was 0.34 in R, here it was 0.28.   Overall R-square was 0.264 in R, 0.257 here."
      ]
    },
    {
      "cell_type": "markdown",
      "metadata": {
        "id": "nB4pU_m4m-Yn",
        "colab_type": "text"
      },
      "source": [
        "## OLS model for UTX"
      ]
    },
    {
      "cell_type": "code",
      "metadata": {
        "id": "0i2sEZ6XmJ3a",
        "colab_type": "code",
        "outputId": "306e55fc-525a-4356-e791-b1447a9f8daa",
        "colab": {
          "base_uri": "https://localhost:8080/",
          "height": 459
        }
      },
      "source": [
        "X = df[['Mkt.RF', 'SMB', 'HML']]\n",
        "y = df['UTX_AC']\n",
        "UTXmodel = sm.OLS(y, X).fit()\n",
        "print(UTXmodel.summary())\n",
        "   "
      ],
      "execution_count": 9,
      "outputs": [
        {
          "output_type": "stream",
          "text": [
            "                                 OLS Regression Results                                \n",
            "=======================================================================================\n",
            "Dep. Variable:                 UTX_AC   R-squared (uncentered):                   0.352\n",
            "Model:                            OLS   Adj. R-squared (uncentered):              0.348\n",
            "Method:                 Least Squares   F-statistic:                              90.59\n",
            "Date:                Wed, 20 Nov 2019   Prob (F-statistic):                    7.89e-47\n",
            "Time:                        00:45:47   Log-Likelihood:                         -638.34\n",
            "No. Observations:                 503   AIC:                                      1283.\n",
            "Df Residuals:                     500   BIC:                                      1295.\n",
            "Df Model:                           3                                                  \n",
            "Covariance Type:            nonrobust                                                  \n",
            "==============================================================================\n",
            "                 coef    std err          t      P>|t|      [0.025      0.975]\n",
            "------------------------------------------------------------------------------\n",
            "Mkt.RF         1.0286      0.068     15.160      0.000       0.895       1.162\n",
            "SMB           -0.2927      0.100     -2.921      0.004      -0.490      -0.096\n",
            "HML           -0.0010      0.118     -0.008      0.993      -0.232       0.231\n",
            "==============================================================================\n",
            "Omnibus:                       15.170   Durbin-Watson:                   2.041\n",
            "Prob(Omnibus):                  0.001   Jarque-Bera (JB):               31.269\n",
            "Skew:                           0.072   Prob(JB):                     1.62e-07\n",
            "Kurtosis:                       4.213   Cond. No.                         2.33\n",
            "==============================================================================\n",
            "\n",
            "Warnings:\n",
            "[1] Standard Errors assume that the covariance matrix of the errors is correctly specified.\n"
          ],
          "name": "stdout"
        }
      ]
    },
    {
      "cell_type": "markdown",
      "metadata": {
        "id": "OdDK_SX8xDtB",
        "colab_type": "text"
      },
      "source": [
        "## Test/Train Split for UTX"
      ]
    },
    {
      "cell_type": "code",
      "metadata": {
        "id": "Wlqs4dlWmxHO",
        "colab_type": "code",
        "colab": {}
      },
      "source": [
        "trainX = df[['Mkt.RF', 'SMB', 'HML']][0:250]\n",
        "trainy = df['UTX_AC'][0:250]\n",
        "testX = df[['Mkt.RF', 'SMB', 'HML']][250:]\n",
        "testy = df['UTX_AC'][250:]"
      ],
      "execution_count": 0,
      "outputs": []
    },
    {
      "cell_type": "markdown",
      "metadata": {
        "id": "0RboP0PEy0bZ",
        "colab_type": "text"
      },
      "source": [
        "### fit model to training data"
      ]
    },
    {
      "cell_type": "code",
      "metadata": {
        "id": "ueZi5f3JvVg8",
        "colab_type": "code",
        "colab": {}
      },
      "source": [
        "UTX_train_model = sm.OLS(trainy, trainX).fit()"
      ],
      "execution_count": 0,
      "outputs": []
    },
    {
      "cell_type": "markdown",
      "metadata": {
        "id": "8rbdFZaqy9YV",
        "colab_type": "text"
      },
      "source": [
        "#### In-sample prediction"
      ]
    },
    {
      "cell_type": "code",
      "metadata": {
        "id": "nAXXPjEoy81P",
        "colab_type": "code",
        "colab": {}
      },
      "source": [
        "ypred = UTX_train_model.predict(testX)"
      ],
      "execution_count": 0,
      "outputs": []
    },
    {
      "cell_type": "markdown",
      "metadata": {
        "id": "SjWGnHF1zaN4",
        "colab_type": "text"
      },
      "source": [
        "#### out-of sample prediction"
      ]
    },
    {
      "cell_type": "code",
      "metadata": {
        "id": "tYO9MnFrzd-5",
        "colab_type": "code",
        "outputId": "4558687f-4914-4b60-ecc8-eaa3d150c1a0",
        "colab": {
          "base_uri": "https://localhost:8080/",
          "height": 266
        }
      },
      "source": [
        "fig, ax = plt.subplots()\n",
        "ax.plot(ypred, testy, 'o', label=\"Data\")\n",
        "#ax.plot(x1, y_true, 'b-', label=\"True\")\n",
        "#ax.plot(np.hstack((x1, x1n)), np.hstack((ypred, ynewpred)), 'r', label=\"OLS prediction\")\n",
        "ax.legend(loc=\"best\");"
      ],
      "execution_count": 13,
      "outputs": [
        {
          "output_type": "display_data",
          "data": {
            "image/png": "[encoded data removed]",
            "text/plain": [
              "<Figure size 432x288 with 1 Axes>"
            ]
          },
          "metadata": {
            "tags": []
          }
        }
      ]
    },
    {
      "cell_type": "code",
      "metadata": {
        "id": "350PRJdk1cwG",
        "colab_type": "code",
        "outputId": "2c3a59b6-6775-4a4f-c213-58fed5322e41",
        "colab": {
          "base_uri": "https://localhost:8080/",
          "height": 294
        }
      },
      "source": [
        "ypred.plot()"
      ],
      "execution_count": 14,
      "outputs": [
        {
          "output_type": "execute_result",
          "data": {
            "text/plain": [
              "<matplotlib.axes._subplots.AxesSubplot at 0x7f9cdaeeb470>"
            ]
          },
          "metadata": {
            "tags": []
          },
          "execution_count": 14
        },
        {
          "output_type": "display_data",
          "data": {
            "image/png": "[encoded data removed]",
            "text/plain": [
              "<Figure size 432x288 with 1 Axes>"
            ]
          },
          "metadata": {
            "tags": []
          }
        }
      ]
    },
    {
      "cell_type": "markdown",
      "metadata": {
        "id": "lsHyj4vsy3wJ",
        "colab_type": "text"
      },
      "source": [
        ""
      ]
    },
    {
      "cell_type": "code",
      "metadata": {
        "id": "MePKX4GcvhTf",
        "colab_type": "code",
        "colab": {}
      },
      "source": [
        "Diff = ypred - testy"
      ],
      "execution_count": 0,
      "outputs": []
    },
    {
      "cell_type": "code",
      "metadata": {
        "id": "BNfiGLDz01PF",
        "colab_type": "code",
        "outputId": "900f1cfb-500c-4550-ce3a-1990d7db31f0",
        "colab": {
          "base_uri": "https://localhost:8080/",
          "height": 441
        }
      },
      "source": [
        "Diff.plot(figsize = (15,7))"
      ],
      "execution_count": 16,
      "outputs": [
        {
          "output_type": "execute_result",
          "data": {
            "text/plain": [
              "<matplotlib.axes._subplots.AxesSubplot at 0x7f9cda99d438>"
            ]
          },
          "metadata": {
            "tags": []
          },
          "execution_count": 16
        },
        {
          "output_type": "display_data",
          "data": {
            "image/png": "[encoded data removed]",
            "text/plain": [
              "<Figure size 1080x504 with 1 Axes>"
            ]
          },
          "metadata": {
            "tags": []
          }
        }
      ]
    },
    {
      "cell_type": "code",
      "metadata": {
        "id": "MjV3SRI208cB",
        "colab_type": "code",
        "colab": {}
      },
      "source": [
        ""
      ],
      "execution_count": 0,
      "outputs": []
    }
  ]
}